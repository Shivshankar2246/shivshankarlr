{
 "cells": [
  {
   "cell_type": "code",
   "execution_count": 127,
   "id": "ca10f8e2-6fea-44d1-b30c-549e6f02555a",
   "metadata": {},
   "outputs": [],
   "source": [
    "import numpy as np\n",
    "from sklearn.linear_model import LinearRegression\n",
    "from sklearn.model_selection import train_test_split\n",
    "import seaborn as sns\n",
    "import matplotlib.pyplot as plt"
   ]
  },
  {
   "cell_type": "code",
   "execution_count": 72,
   "id": "207a7055-b5a4-4b23-8cad-eb4d3158b453",
   "metadata": {},
   "outputs": [],
   "source": [
    "x=np.arange(20).reshape(-1,1)\n",
    "y=np.array([5,12,11,19,30,29,23,40,51,54,74,62,68,73,89,84,89,101,99,106])"
   ]
  },
  {
   "cell_type": "code",
   "execution_count": 6,
   "id": "6123cd81-dfdd-4a1b-9e5c-039e601c12ec",
   "metadata": {},
   "outputs": [
    {
     "data": {
      "text/plain": [
       "array([[ 0],\n",
       "       [ 1],\n",
       "       [ 2],\n",
       "       [ 3],\n",
       "       [ 4],\n",
       "       [ 5],\n",
       "       [ 6],\n",
       "       [ 7],\n",
       "       [ 8],\n",
       "       [ 9],\n",
       "       [10],\n",
       "       [11],\n",
       "       [12],\n",
       "       [13],\n",
       "       [14],\n",
       "       [15],\n",
       "       [16],\n",
       "       [17],\n",
       "       [18],\n",
       "       [19]])"
      ]
     },
     "execution_count": 6,
     "metadata": {},
     "output_type": "execute_result"
    }
   ],
   "source": [
    "x"
   ]
  },
  {
   "cell_type": "code",
   "execution_count": 7,
   "id": "69f42b0d-b11e-48a7-98e0-234a080c93f8",
   "metadata": {},
   "outputs": [
    {
     "data": {
      "text/plain": [
       "array([  5,  12,  11,  19,  30,  29,  23,  40,  51,  54,  74,  62,  68,\n",
       "        73,  89,  84,  89, 101,  99, 106])"
      ]
     },
     "execution_count": 7,
     "metadata": {},
     "output_type": "execute_result"
    }
   ],
   "source": [
    "y"
   ]
  },
  {
   "cell_type": "code",
   "execution_count": 8,
   "id": "a05658fd-020a-4c33-a151-b4ae88e97f59",
   "metadata": {},
   "outputs": [],
   "source": [
    "x_train,x_test,y_train,y_test=train_test_split(x,y,random_state=1000,test_size=8)"
   ]
  },
  {
   "cell_type": "code",
   "execution_count": 9,
   "id": "cca0ab5e-7d93-49bb-8040-575ca4b12e4b",
   "metadata": {},
   "outputs": [
    {
     "data": {
      "text/plain": [
       "array([[10],\n",
       "       [11],\n",
       "       [ 4],\n",
       "       [15],\n",
       "       [ 8],\n",
       "       [ 9],\n",
       "       [17],\n",
       "       [13],\n",
       "       [ 1],\n",
       "       [ 0],\n",
       "       [ 7],\n",
       "       [19]])"
      ]
     },
     "execution_count": 9,
     "metadata": {},
     "output_type": "execute_result"
    }
   ],
   "source": [
    "x_train"
   ]
  },
  {
   "cell_type": "code",
   "execution_count": 10,
   "id": "d3fe4089-97d4-4263-a263-9011126ef040",
   "metadata": {},
   "outputs": [
    {
     "data": {
      "text/plain": [
       "array([[ 5],\n",
       "       [18],\n",
       "       [ 3],\n",
       "       [ 6],\n",
       "       [14],\n",
       "       [16],\n",
       "       [ 2],\n",
       "       [12]])"
      ]
     },
     "execution_count": 10,
     "metadata": {},
     "output_type": "execute_result"
    }
   ],
   "source": [
    "x_test"
   ]
  },
  {
   "cell_type": "code",
   "execution_count": 27,
   "id": "29635175-06f9-4245-810a-f64aa92000e8",
   "metadata": {},
   "outputs": [
    {
     "data": {
      "text/plain": [
       "LinearRegression()"
      ]
     },
     "execution_count": 27,
     "metadata": {},
     "output_type": "execute_result"
    }
   ],
   "source": [
    "lab=LinearRegression()\n",
    "lab.fit(x_train,y_train)"
   ]
  },
  {
   "cell_type": "code",
   "execution_count": 34,
   "id": "78ad2e01-c39b-42d8-9760-8ae1871f0202",
   "metadata": {},
   "outputs": [
    {
     "data": {
      "text/plain": [
       "7.048346055979607"
      ]
     },
     "execution_count": 34,
     "metadata": {},
     "output_type": "execute_result"
    }
   ],
   "source": [
    "c=lab.intercept_\n",
    "c#c value"
   ]
  },
  {
   "cell_type": "code",
   "execution_count": 36,
   "id": "81f350ea-1e62-4832-afd7-61acc996e77f",
   "metadata": {},
   "outputs": [
    {
     "data": {
      "text/plain": [
       "array([5.32824427])"
      ]
     },
     "execution_count": 36,
     "metadata": {},
     "output_type": "execute_result"
    }
   ],
   "source": [
    "m=lab.coef_\n",
    "m# m value"
   ]
  },
  {
   "cell_type": "code",
   "execution_count": 65,
   "id": "665e8125-50bd-46b7-9097-bfb42ff9e9d2",
   "metadata": {},
   "outputs": [],
   "source": [
    "y=(m*x)+c\n",
    "y=(5.32*x)+7.04\n"
   ]
  },
  {
   "cell_type": "code",
   "execution_count": 66,
   "id": "620ee31b-44e7-4f1a-9721-040a364a1d57",
   "metadata": {},
   "outputs": [
    {
     "data": {
      "text/plain": [
       "array([ 33.68956743, 102.956743  ,  23.03307888,  39.0178117 ,\n",
       "        81.6437659 ,  92.30025445,  17.70483461,  70.98727735])"
      ]
     },
     "execution_count": 80,
     "metadata": {},
     "output_type": "execute_result"
    }
   ],
   "source": [
    "lab.predict(x_test)"
   ]
  },
  {
   "cell_type": "code",
   "execution_count": 67,
   "id": "37e86db0-8602-40cc-958c-65acd8a078b0",
   "metadata": {},
   "outputs": [
    {
     "data": {
      "text/plain": [
       "97.6772222900407"
      ]
     },
     "execution_count": 81,
     "metadata": {},
     "output_type": "execute_result"
    }
   ],
   "source": [
    "lab.score(x_train,y_train)*100"
   ]
  },
  {
   "cell_type": "code",
   "execution_count": 68,
   "id": "fb193d99-456c-4c33-8f53-27b51e9732cc",
   "metadata": {},
   "outputs": [
    {
     "data": {
      "text/plain": [
       "95.3969326609571"
      ]
     },
     "execution_count": 82,
     "metadata": {},
     "output_type": "execute_result"
    }
   ],
   "source": [
    "lab.score(x_test,y_test)*100"
   ]
  },
  {
   "cell_type": "code",
   "execution_count": 69,
   "id": "3a52d9fc-cdd7-41bb-90f5-b6ac4d55f761",
   "metadata": {},
   "outputs": [
    {
     "data": {
      "text/plain": [
       "array([ 33.68956743, 102.956743  ,  23.03307888,  39.0178117 ,\n",
       "        81.6437659 ,  92.30025445,  17.70483461,  70.98727735])"
      ]
     },
     "execution_count": 83,
     "metadata": {},
     "output_type": "execute_result"
    }
   ],
   "source": [
    "model_prediction=lab.predict(x_test)\n",
    "model_prediction"
   ]
  },
  {
   "cell_type": "code",
   "execution_count": 70,
   "id": "c2ed5892-1b9a-4222-9e85-cf344d89a1d7",
   "metadata": {},
   "outputs": [],
   "source": [
    "import pandas as pd"
   ]
  },
  {
   "cell_type": "code",
   "execution_count": 74,
   "id": "8da68fee-1994-4966-970b-527ea61a0d02",
   "metadata": {},
   "outputs": [],
   "source": [
    "x=pd.DataFrame(x,columns=['X'])\n",
    "y=pd.DataFrame(y,columns=['Y'])\n"
   ]
  },
  {
   "cell_type": "code",
   "execution_count": 61,
   "id": "8c5d3012-e685-40d1-b6c8-2eb1850f26ac",
   "metadata": {},
   "outputs": [
    {
     "data": {
      "text/html": [
       "<div>\n",
       "<style scoped>\n",
       "    .dataframe tbody tr th:only-of-type {\n",
       "        vertical-align: middle;\n",
       "    }\n",
       "\n",
       "    .dataframe tbody tr th {\n",
       "        vertical-align: top;\n",
       "    }\n",
       "\n",
       "    .dataframe thead th {\n",
       "        text-align: right;\n",
       "    }\n",
       "</style>\n",
       "<table border=\"1\" class=\"dataframe\">\n",
       "  <thead>\n",
       "    <tr style=\"text-align: right;\">\n",
       "      <th></th>\n",
       "      <th>X</th>\n",
       "      <th>Y</th>\n",
       "    </tr>\n",
       "  </thead>\n",
       "  <tbody>\n",
       "    <tr>\n",
       "      <th>0</th>\n",
       "      <td>0</td>\n",
       "      <td>5</td>\n",
       "    </tr>\n",
       "    <tr>\n",
       "      <th>1</th>\n",
       "      <td>1</td>\n",
       "      <td>12</td>\n",
       "    </tr>\n",
       "    <tr>\n",
       "      <th>2</th>\n",
       "      <td>2</td>\n",
       "      <td>11</td>\n",
       "    </tr>\n",
       "    <tr>\n",
       "      <th>3</th>\n",
       "      <td>3</td>\n",
       "      <td>19</td>\n",
       "    </tr>\n",
       "    <tr>\n",
       "      <th>4</th>\n",
       "      <td>4</td>\n",
       "      <td>30</td>\n",
       "    </tr>\n",
       "    <tr>\n",
       "      <th>5</th>\n",
       "      <td>5</td>\n",
       "      <td>29</td>\n",
       "    </tr>\n",
       "    <tr>\n",
       "      <th>6</th>\n",
       "      <td>6</td>\n",
       "      <td>23</td>\n",
       "    </tr>\n",
       "    <tr>\n",
       "      <th>7</th>\n",
       "      <td>7</td>\n",
       "      <td>40</td>\n",
       "    </tr>\n",
       "    <tr>\n",
       "      <th>8</th>\n",
       "      <td>8</td>\n",
       "      <td>51</td>\n",
       "    </tr>\n",
       "    <tr>\n",
       "      <th>9</th>\n",
       "      <td>9</td>\n",
       "      <td>54</td>\n",
       "    </tr>\n",
       "    <tr>\n",
       "      <th>10</th>\n",
       "      <td>10</td>\n",
       "      <td>74</td>\n",
       "    </tr>\n",
       "    <tr>\n",
       "      <th>11</th>\n",
       "      <td>11</td>\n",
       "      <td>62</td>\n",
       "    </tr>\n",
       "    <tr>\n",
       "      <th>12</th>\n",
       "      <td>12</td>\n",
       "      <td>68</td>\n",
       "    </tr>\n",
       "    <tr>\n",
       "      <th>13</th>\n",
       "      <td>13</td>\n",
       "      <td>73</td>\n",
       "    </tr>\n",
       "    <tr>\n",
       "      <th>14</th>\n",
       "      <td>14</td>\n",
       "      <td>89</td>\n",
       "    </tr>\n",
       "    <tr>\n",
       "      <th>15</th>\n",
       "      <td>15</td>\n",
       "      <td>84</td>\n",
       "    </tr>\n",
       "    <tr>\n",
       "      <th>16</th>\n",
       "      <td>16</td>\n",
       "      <td>89</td>\n",
       "    </tr>\n",
       "    <tr>\n",
       "      <th>17</th>\n",
       "      <td>17</td>\n",
       "      <td>101</td>\n",
       "    </tr>\n",
       "    <tr>\n",
       "      <th>18</th>\n",
       "      <td>18</td>\n",
       "      <td>99</td>\n",
       "    </tr>\n",
       "    <tr>\n",
       "      <th>19</th>\n",
       "      <td>19</td>\n",
       "      <td>106</td>\n",
       "    </tr>\n",
       "  </tbody>\n",
       "</table>\n",
       "</div>"
      ],
      "text/plain": [
       "     X    Y\n",
       "0    0    5\n",
       "1    1   12\n",
       "2    2   11\n",
       "3    3   19\n",
       "4    4   30\n",
       "5    5   29\n",
       "6    6   23\n",
       "7    7   40\n",
       "8    8   51\n",
       "9    9   54\n",
       "10  10   74\n",
       "11  11   62\n",
       "12  12   68\n",
       "13  13   73\n",
       "14  14   89\n",
       "15  15   84\n",
       "16  16   89\n",
       "17  17  101\n",
       "18  18   99\n",
       "19  19  106"
      ]
     },
     "execution_count": 90,
     "metadata": {},
     "output_type": "execute_result"
    }
   ],
   "source": [
    "xylist=[x,y]\n",
    "\n",
    "df=pd.concat(xylist,axis=1)\n"
   ]
  },
  {
   "cell_type": "code",
   "execution_count": 115,
   "id": "96644448-8951-4057-af2e-ff73005cab4c",
   "metadata": {},
   "outputs": [
    {
     "name": "stderr",
     "output_type": "stream",
     "text": [
      "E:\\anaconda\\lib\\site-packages\\sklearn\\base.py:443: UserWarning: X has feature names, but LinearRegression was fitted without feature names\n",
      "  warnings.warn(\n"
     ]
    },
    {
     "data": {
      "text/html": [
       "<div>\n",
       "<style scoped>\n",
       "    .dataframe tbody tr th:only-of-type {\n",
       "        vertical-align: middle;\n",
       "    }\n",
       "\n",
       "    .dataframe tbody tr th {\n",
       "        vertical-align: top;\n",
       "    }\n",
       "\n",
       "    .dataframe thead th {\n",
       "        text-align: right;\n",
       "    }\n",
       "</style>\n",
       "<table border=\"1\" class=\"dataframe\">\n",
       "  <thead>\n",
       "    <tr style=\"text-align: right;\">\n",
       "      <th></th>\n",
       "      <th>y_pred</th>\n",
       "    </tr>\n",
       "  </thead>\n",
       "  <tbody>\n",
       "    <tr>\n",
       "      <th>0</th>\n",
       "      <td>7.048346</td>\n",
       "    </tr>\n",
       "    <tr>\n",
       "      <th>1</th>\n",
       "      <td>12.376590</td>\n",
       "    </tr>\n",
       "    <tr>\n",
       "      <th>2</th>\n",
       "      <td>17.704835</td>\n",
       "    </tr>\n",
       "    <tr>\n",
       "      <th>3</th>\n",
       "      <td>23.033079</td>\n",
       "    </tr>\n",
       "    <tr>\n",
       "      <th>4</th>\n",
       "      <td>28.361323</td>\n",
       "    </tr>\n",
       "    <tr>\n",
       "      <th>5</th>\n",
       "      <td>33.689567</td>\n",
       "    </tr>\n",
       "    <tr>\n",
       "      <th>6</th>\n",
       "      <td>39.017812</td>\n",
       "    </tr>\n",
       "    <tr>\n",
       "      <th>7</th>\n",
       "      <td>44.346056</td>\n",
       "    </tr>\n",
       "    <tr>\n",
       "      <th>8</th>\n",
       "      <td>49.674300</td>\n",
       "    </tr>\n",
       "    <tr>\n",
       "      <th>9</th>\n",
       "      <td>55.002545</td>\n",
       "    </tr>\n",
       "    <tr>\n",
       "      <th>10</th>\n",
       "      <td>60.330789</td>\n",
       "    </tr>\n",
       "    <tr>\n",
       "      <th>11</th>\n",
       "      <td>65.659033</td>\n",
       "    </tr>\n",
       "    <tr>\n",
       "      <th>12</th>\n",
       "      <td>70.987277</td>\n",
       "    </tr>\n",
       "    <tr>\n",
       "      <th>13</th>\n",
       "      <td>76.315522</td>\n",
       "    </tr>\n",
       "    <tr>\n",
       "      <th>14</th>\n",
       "      <td>81.643766</td>\n",
       "    </tr>\n",
       "    <tr>\n",
       "      <th>15</th>\n",
       "      <td>86.972010</td>\n",
       "    </tr>\n",
       "    <tr>\n",
       "      <th>16</th>\n",
       "      <td>92.300254</td>\n",
       "    </tr>\n",
       "    <tr>\n",
       "      <th>17</th>\n",
       "      <td>97.628499</td>\n",
       "    </tr>\n",
       "    <tr>\n",
       "      <th>18</th>\n",
       "      <td>102.956743</td>\n",
       "    </tr>\n",
       "    <tr>\n",
       "      <th>19</th>\n",
       "      <td>108.284987</td>\n",
       "    </tr>\n",
       "  </tbody>\n",
       "</table>\n",
       "</div>"
      ],
      "text/plain": [
       "        y_pred\n",
       "0     7.048346\n",
       "1    12.376590\n",
       "2    17.704835\n",
       "3    23.033079\n",
       "4    28.361323\n",
       "5    33.689567\n",
       "6    39.017812\n",
       "7    44.346056\n",
       "8    49.674300\n",
       "9    55.002545\n",
       "10   60.330789\n",
       "11   65.659033\n",
       "12   70.987277\n",
       "13   76.315522\n",
       "14   81.643766\n",
       "15   86.972010\n",
       "16   92.300254\n",
       "17   97.628499\n",
       "18  102.956743\n",
       "19  108.284987"
      ]
     },
     "execution_count": 115,
     "metadata": {},
     "output_type": "execute_result"
    }
   ],
   "source": [
    "model_prediction=lab.predict(x)\n",
    "y_prediction=pd.DataFrame(model_prediction,columns=['y_pred'])\n",
    "y_prediction"
   ]
  },
  {
   "cell_type": "code",
   "execution_count": 116,
   "id": "793d8c52-2a2c-4422-a78f-d976d7fa48d4",
   "metadata": {},
   "outputs": [
    {
     "data": {
      "text/html": [
       "<div>\n",
       "<style scoped>\n",
       "    .dataframe tbody tr th:only-of-type {\n",
       "        vertical-align: middle;\n",
       "    }\n",
       "\n",
       "    .dataframe tbody tr th {\n",
       "        vertical-align: top;\n",
       "    }\n",
       "\n",
       "    .dataframe thead th {\n",
       "        text-align: right;\n",
       "    }\n",
       "</style>\n",
       "<table border=\"1\" class=\"dataframe\">\n",
       "  <thead>\n",
       "    <tr style=\"text-align: right;\">\n",
       "      <th></th>\n",
       "      <th>X</th>\n",
       "      <th>Y</th>\n",
       "      <th>y_pred</th>\n",
       "    </tr>\n",
       "  </thead>\n",
       "  <tbody>\n",
       "    <tr>\n",
       "      <th>0</th>\n",
       "      <td>0</td>\n",
       "      <td>5</td>\n",
       "      <td>7.048346</td>\n",
       "    </tr>\n",
       "    <tr>\n",
       "      <th>1</th>\n",
       "      <td>1</td>\n",
       "      <td>12</td>\n",
       "      <td>12.376590</td>\n",
       "    </tr>\n",
       "    <tr>\n",
       "      <th>2</th>\n",
       "      <td>2</td>\n",
       "      <td>11</td>\n",
       "      <td>17.704835</td>\n",
       "    </tr>\n",
       "    <tr>\n",
       "      <th>3</th>\n",
       "      <td>3</td>\n",
       "      <td>19</td>\n",
       "      <td>23.033079</td>\n",
       "    </tr>\n",
       "    <tr>\n",
       "      <th>4</th>\n",
       "      <td>4</td>\n",
       "      <td>30</td>\n",
       "      <td>28.361323</td>\n",
       "    </tr>\n",
       "    <tr>\n",
       "      <th>5</th>\n",
       "      <td>5</td>\n",
       "      <td>29</td>\n",
       "      <td>33.689567</td>\n",
       "    </tr>\n",
       "    <tr>\n",
       "      <th>6</th>\n",
       "      <td>6</td>\n",
       "      <td>23</td>\n",
       "      <td>39.017812</td>\n",
       "    </tr>\n",
       "    <tr>\n",
       "      <th>7</th>\n",
       "      <td>7</td>\n",
       "      <td>40</td>\n",
       "      <td>44.346056</td>\n",
       "    </tr>\n",
       "    <tr>\n",
       "      <th>8</th>\n",
       "      <td>8</td>\n",
       "      <td>51</td>\n",
       "      <td>49.674300</td>\n",
       "    </tr>\n",
       "    <tr>\n",
       "      <th>9</th>\n",
       "      <td>9</td>\n",
       "      <td>54</td>\n",
       "      <td>55.002545</td>\n",
       "    </tr>\n",
       "    <tr>\n",
       "      <th>10</th>\n",
       "      <td>10</td>\n",
       "      <td>74</td>\n",
       "      <td>60.330789</td>\n",
       "    </tr>\n",
       "    <tr>\n",
       "      <th>11</th>\n",
       "      <td>11</td>\n",
       "      <td>62</td>\n",
       "      <td>65.659033</td>\n",
       "    </tr>\n",
       "    <tr>\n",
       "      <th>12</th>\n",
       "      <td>12</td>\n",
       "      <td>68</td>\n",
       "      <td>70.987277</td>\n",
       "    </tr>\n",
       "    <tr>\n",
       "      <th>13</th>\n",
       "      <td>13</td>\n",
       "      <td>73</td>\n",
       "      <td>76.315522</td>\n",
       "    </tr>\n",
       "    <tr>\n",
       "      <th>14</th>\n",
       "      <td>14</td>\n",
       "      <td>89</td>\n",
       "      <td>81.643766</td>\n",
       "    </tr>\n",
       "    <tr>\n",
       "      <th>15</th>\n",
       "      <td>15</td>\n",
       "      <td>84</td>\n",
       "      <td>86.972010</td>\n",
       "    </tr>\n",
       "    <tr>\n",
       "      <th>16</th>\n",
       "      <td>16</td>\n",
       "      <td>89</td>\n",
       "      <td>92.300254</td>\n",
       "    </tr>\n",
       "    <tr>\n",
       "      <th>17</th>\n",
       "      <td>17</td>\n",
       "      <td>101</td>\n",
       "      <td>97.628499</td>\n",
       "    </tr>\n",
       "    <tr>\n",
       "      <th>18</th>\n",
       "      <td>18</td>\n",
       "      <td>99</td>\n",
       "      <td>102.956743</td>\n",
       "    </tr>\n",
       "    <tr>\n",
       "      <th>19</th>\n",
       "      <td>19</td>\n",
       "      <td>106</td>\n",
       "      <td>108.284987</td>\n",
       "    </tr>\n",
       "  </tbody>\n",
       "</table>\n",
       "</div>"
      ],
      "text/plain": [
       "     X    Y      y_pred\n",
       "0    0    5    7.048346\n",
       "1    1   12   12.376590\n",
       "2    2   11   17.704835\n",
       "3    3   19   23.033079\n",
       "4    4   30   28.361323\n",
       "5    5   29   33.689567\n",
       "6    6   23   39.017812\n",
       "7    7   40   44.346056\n",
       "8    8   51   49.674300\n",
       "9    9   54   55.002545\n",
       "10  10   74   60.330789\n",
       "11  11   62   65.659033\n",
       "12  12   68   70.987277\n",
       "13  13   73   76.315522\n",
       "14  14   89   81.643766\n",
       "15  15   84   86.972010\n",
       "16  16   89   92.300254\n",
       "17  17  101   97.628499\n",
       "18  18   99  102.956743\n",
       "19  19  106  108.284987"
      ]
     },
     "execution_count": 116,
     "metadata": {},
     "output_type": "execute_result"
    }
   ],
   "source": [
    "new_xylist=[df,y_prediction]\n",
    "\n",
    "d=pd.concat(new_xylist,axis=1)\n",
    "d"
   ]
  },
  {
   "cell_type": "markdown",
   "id": "8e9e9604-1f4f-4808-825b-d71908f3a148",
   "metadata": {},
   "source": [
    "### to find the error"
   ]
  },
  {
   "cell_type": "markdown",
   "id": "84105be4-726a-4062-8deb-8b2c3f0f9568",
   "metadata": {},
   "source": [
    "### 1)MEAN ABSOLUTE ERROR"
   ]
  },
  {
   "cell_type": "code",
   "execution_count": 120,
   "id": "5d2d31f3-ecd8-45ec-919c-aa0d8a8df9ea",
   "metadata": {},
   "outputs": [
    {
     "name": "stdout",
     "output_type": "stream",
     "text": [
      "4.45279898218829\n"
     ]
    }
   ],
   "source": [
    "from sklearn import metrics\n",
    "MAE=metrics.mean_absolute_error(d.Y,d.y_pred)\n",
    "print(MAE)"
   ]
  },
  {
   "cell_type": "markdown",
   "id": "1d8a9ce1-b761-47f6-8c6b-c7882043728b",
   "metadata": {},
   "source": [
    "### 2)ROOT MEAN SQUARE"
   ]
  },
  {
   "cell_type": "code",
   "execution_count": 123,
   "id": "aded67fa-6d27-4c4a-a26b-b7ec6977ad6c",
   "metadata": {},
   "outputs": [
    {
     "name": "stdout",
     "output_type": "stream",
     "text": [
      "2.1101656290889323\n"
     ]
    }
   ],
   "source": [
    "RMSE=np.sqrt(MAE)\n",
    "print(RMSE)"
   ]
  },
  {
   "cell_type": "code",
   "execution_count": 124,
   "id": "04e54219-8609-45d6-939a-390c646f1fa7",
   "metadata": {},
   "outputs": [],
   "source": [
    "Y=(m*x)+c\n",
    "Y=(5.32*x)+7.04"
   ]
  },
  {
   "cell_type": "markdown",
   "id": "d3b55063-2279-4844-837a-c61c098f6ae9",
   "metadata": {},
   "source": [
    "### TAKING X AS 19 TO FIND Y VALUE"
   ]
  },
  {
   "cell_type": "code",
   "execution_count": 125,
   "id": "5b642d87-688c-4fb6-9350-d617157fbbd9",
   "metadata": {},
   "outputs": [
    {
     "data": {
      "text/plain": [
       "108.12000000000002"
      ]
     },
     "execution_count": 125,
     "metadata": {},
     "output_type": "execute_result"
    }
   ],
   "source": [
    "(5.32*19)+7.04"
   ]
  },
  {
   "cell_type": "markdown",
   "id": "86a3d411-2e46-4c4f-95e1-dd99dff977a0",
   "metadata": {},
   "source": [
    "### TAKING X AS 18 TO FIND Y VALUE"
   ]
  },
  {
   "cell_type": "code",
   "execution_count": 129,
   "id": "27e05f48-ec24-4380-8712-849f07d1f294",
   "metadata": {},
   "outputs": [
    {
     "data": {
      "text/plain": [
       "102.80000000000001"
      ]
     },
     "execution_count": 129,
     "metadata": {},
     "output_type": "execute_result"
    }
   ],
   "source": [
    "(5.32*18)+7.04"
   ]
  },
  {
   "cell_type": "markdown",
   "id": "2171a60e-01a0-4215-891b-347655d2f4de",
   "metadata": {},
   "source": [
    "### TAKING X AS 17 TO FIND Y VALUE"
   ]
  },
  {
   "cell_type": "code",
   "execution_count": 130,
   "id": "0cc08d4c-7bdb-4907-93d0-33493b1abe74",
   "metadata": {},
   "outputs": [
    {
     "data": {
      "text/plain": [
       "97.48"
      ]
     },
     "execution_count": 130,
     "metadata": {},
     "output_type": "execute_result"
    }
   ],
   "source": [
    "(5.32*17)+7.04"
   ]
  },
  {
   "cell_type": "markdown",
   "id": "14d897cc-9e01-4292-8abe-a499be96b66b",
   "metadata": {},
   "source": [
    "### TAKING X AS 16 TO FIND Y VALUE"
   ]
  },
  {
   "cell_type": "code",
   "execution_count": 131,
   "id": "996aa829-dc0f-4369-833e-47759c72ac36",
   "metadata": {},
   "outputs": [
    {
     "data": {
      "text/plain": [
       "92.16000000000001"
      ]
     },
     "execution_count": 131,
     "metadata": {},
     "output_type": "execute_result"
    }
   ],
   "source": [
    "(5.32*16)+7.04"
   ]
  },
  {
   "cell_type": "markdown",
   "id": "ac69687c-1b7e-4dd1-8132-9f2bf9661059",
   "metadata": {},
   "source": [
    "### TAKING X AS 15 TO FIND Y VALUE"
   ]
  },
  {
   "cell_type": "code",
   "execution_count": 132,
   "id": "85f6d12e-86b0-4165-92ec-51d0fb99a5a5",
   "metadata": {},
   "outputs": [
    {
     "data": {
      "text/plain": [
       "86.84000000000002"
      ]
     },
     "execution_count": 132,
     "metadata": {},
     "output_type": "execute_result"
    }
   ],
   "source": [
    "(5.32*15)+7.04"
   ]
  },
  {
   "cell_type": "markdown",
   "id": "fdd790c6-e9bf-48a2-a61b-5dd93553f019",
   "metadata": {},
   "source": [
    "### TAKING X AS 14 TO FIND Y VALUE"
   ]
  },
  {
   "cell_type": "code",
   "execution_count": 133,
   "id": "4c20c7f4-5b54-4e98-8945-39b84e3055ff",
   "metadata": {},
   "outputs": [
    {
     "data": {
      "text/plain": [
       "81.52000000000001"
      ]
     },
     "execution_count": 133,
     "metadata": {},
     "output_type": "execute_result"
    }
   ],
   "source": [
    "(5.32*14)+7.04"
   ]
  },
  {
   "cell_type": "markdown",
   "id": "443715cc-3e4f-4aa9-93bd-aa9e798eb610",
   "metadata": {},
   "source": [
    "### TAKING X AS 13 TO FIND Y VALUE"
   ]
  },
  {
   "cell_type": "code",
   "execution_count": 134,
   "id": "30620aa2-2472-4252-8f22-a5f9f5bb04e4",
   "metadata": {},
   "outputs": [
    {
     "data": {
      "text/plain": [
       "76.2"
      ]
     },
     "execution_count": 134,
     "metadata": {},
     "output_type": "execute_result"
    }
   ],
   "source": [
    "(5.32*13)+7.04"
   ]
  },
  {
   "cell_type": "markdown",
   "id": "126fd418-8360-4751-8c5d-1ac36dce82fd",
   "metadata": {},
   "source": [
    "### TAKING X AS 12 TO FIND Y VALUE"
   ]
  },
  {
   "cell_type": "code",
   "execution_count": 135,
   "id": "7aedfd65-42df-44ca-a271-d7b9b7238ef7",
   "metadata": {},
   "outputs": [
    {
     "data": {
      "text/plain": [
       "70.88000000000001"
      ]
     },
     "execution_count": 135,
     "metadata": {},
     "output_type": "execute_result"
    }
   ],
   "source": [
    "(5.32*12)+7.04"
   ]
  },
  {
   "cell_type": "markdown",
   "id": "cbbbc7ef-d268-4301-90d1-04b7064550a9",
   "metadata": {},
   "source": [
    "### TAKING X AS 11 TO FIND Y VALUE"
   ]
  },
  {
   "cell_type": "code",
   "execution_count": 136,
   "id": "1755ed12-fe60-4a9b-bbe6-4cbe9d307b1d",
   "metadata": {},
   "outputs": [
    {
     "data": {
      "text/plain": [
       "65.56"
      ]
     },
     "execution_count": 136,
     "metadata": {},
     "output_type": "execute_result"
    }
   ],
   "source": [
    "(5.32*11)+7.04"
   ]
  },
  {
   "cell_type": "markdown",
   "id": "66a0e49c-21a0-4395-8bc1-81b96d36db95",
   "metadata": {},
   "source": [
    "### TAKING X AS 10 TO FIND Y VALUE"
   ]
  },
  {
   "cell_type": "markdown",
   "id": "13302d9c-331f-4491-9854-a323c17c6faa",
   "metadata": {},
   "source": [
    "(5.32*10)+7.04"
   ]
  },
  {
   "cell_type": "markdown",
   "id": "6ce63cfd-1d20-4836-be11-05697c6eb537",
   "metadata": {},
   "source": [
    "### TAKING X AS 9 TO FIND Y VALUE"
   ]
  },
  {
   "cell_type": "code",
   "execution_count": 139,
   "id": "209c3d9c-5584-435b-84bf-33de0d674a8a",
   "metadata": {},
   "outputs": [
    {
     "data": {
      "text/plain": [
       "54.92"
      ]
     },
     "execution_count": 139,
     "metadata": {},
     "output_type": "execute_result"
    }
   ],
   "source": [
    "(5.32*9)+7.04"
   ]
  },
  {
   "cell_type": "markdown",
   "id": "4e5f5b89-57ed-479c-afe8-7f4d500770b8",
   "metadata": {},
   "source": [
    "### TAKING X AS 8 TO FIND Y VALUE"
   ]
  },
  {
   "cell_type": "code",
   "execution_count": 140,
   "id": "65940c47-5fa0-49fb-87c3-6d8bf1bf2ed6",
   "metadata": {},
   "outputs": [
    {
     "data": {
      "text/plain": [
       "49.6"
      ]
     },
     "execution_count": 140,
     "metadata": {},
     "output_type": "execute_result"
    }
   ],
   "source": [
    "(5.32*8)+7.04"
   ]
  },
  {
   "cell_type": "markdown",
   "id": "507f6ec2-6c48-4b31-944d-a18e32fa8843",
   "metadata": {},
   "source": [
    "### TAKING X AS 7 TO FIND Y VALUE"
   ]
  },
  {
   "cell_type": "code",
   "execution_count": 141,
   "id": "e93cc660-2d94-4cfd-b746-0216971dff21",
   "metadata": {},
   "outputs": [
    {
     "data": {
      "text/plain": [
       "44.28"
      ]
     },
     "execution_count": 141,
     "metadata": {},
     "output_type": "execute_result"
    }
   ],
   "source": [
    "(5.32*7)+7.04"
   ]
  },
  {
   "cell_type": "markdown",
   "id": "6ad85341-4343-4f04-bd62-408274ad78bd",
   "metadata": {},
   "source": [
    "### TAKING X AS 6 TO FIND Y VALUE"
   ]
  },
  {
   "cell_type": "code",
   "execution_count": 142,
   "id": "8a05f852-39b4-4095-908c-31ecb5418524",
   "metadata": {},
   "outputs": [
    {
     "data": {
      "text/plain": [
       "38.96"
      ]
     },
     "execution_count": 142,
     "metadata": {},
     "output_type": "execute_result"
    }
   ],
   "source": [
    "(5.32*6)+7.04"
   ]
  },
  {
   "cell_type": "markdown",
   "id": "1da113e3-cb05-4283-8786-bde219cbd3d8",
   "metadata": {},
   "source": [
    "### TAKING X AS 5 TO FIND Y VALUE"
   ]
  },
  {
   "cell_type": "code",
   "execution_count": 143,
   "id": "c7cf4f0e-8639-4649-9bba-04b379188168",
   "metadata": {},
   "outputs": [
    {
     "data": {
      "text/plain": [
       "33.64"
      ]
     },
     "execution_count": 143,
     "metadata": {},
     "output_type": "execute_result"
    }
   ],
   "source": [
    "(5.32*5)+7.04"
   ]
  },
  {
   "cell_type": "markdown",
   "id": "37a26622-6884-4cdf-8340-e244a563677a",
   "metadata": {},
   "source": [
    "### TAKING X AS 4 TO FIND Y VALUE"
   ]
  },
  {
   "cell_type": "code",
   "execution_count": 144,
   "id": "986a545c-6f3b-4159-b357-b187522649e8",
   "metadata": {},
   "outputs": [
    {
     "data": {
      "text/plain": [
       "28.32"
      ]
     },
     "execution_count": 144,
     "metadata": {},
     "output_type": "execute_result"
    }
   ],
   "source": [
    "(5.32*4)+7.04"
   ]
  },
  {
   "cell_type": "markdown",
   "id": "1c85a120-c9dd-4750-b2ac-fa1cc569428f",
   "metadata": {},
   "source": [
    "### TAKING X AS 3 TO FIND Y VALUE"
   ]
  },
  {
   "cell_type": "code",
   "execution_count": 145,
   "id": "b0806bfe-163a-46da-9b1d-d885b8a28379",
   "metadata": {},
   "outputs": [
    {
     "data": {
      "text/plain": [
       "23.0"
      ]
     },
     "execution_count": 145,
     "metadata": {},
     "output_type": "execute_result"
    }
   ],
   "source": [
    "(5.32*3)+7.04"
   ]
  },
  {
   "cell_type": "markdown",
   "id": "c6272b46-49f7-43d6-9d05-7d05b94d631a",
   "metadata": {},
   "source": [
    "### TAKING X AS 2 TO FIND Y VALUE"
   ]
  },
  {
   "cell_type": "code",
   "execution_count": 146,
   "id": "f1fbb4fd-a7f6-4078-95e9-568c3b0e8fad",
   "metadata": {},
   "outputs": [
    {
     "data": {
      "text/plain": [
       "17.68"
      ]
     },
     "execution_count": 146,
     "metadata": {},
     "output_type": "execute_result"
    }
   ],
   "source": [
    "(5.32*2)+7.04"
   ]
  },
  {
   "cell_type": "markdown",
   "id": "bdabaad0-d4bd-4dd1-8a22-13fc08bccf63",
   "metadata": {},
   "source": [
    "### TAKING X AS 1"
   ]
  },
  {
   "cell_type": "code",
   "execution_count": 126,
   "id": "c7049976-fa8c-4bdc-93d3-9f17b467ab88",
   "metadata": {},
   "outputs": [
    {
     "data": {
      "text/plain": [
       "12.36"
      ]
     },
     "execution_count": 126,
     "metadata": {},
     "output_type": "execute_result"
    }
   ],
   "source": [
    "(5.32*1)+7.04"
   ]
  },
  {
   "cell_type": "code",
   "execution_count": 128,
   "id": "585f72bb-2d2d-4abf-bbf4-c11133c415e2",
   "metadata": {},
   "outputs": [
    {
     "data": {
      "image/png": "[encoded data removed]",
      "text/plain": [
       "<Figure size 640x480 with 1 Axes>"
      ]
     },
     "metadata": {},
     "output_type": "display_data"
    }
   ],
   "source": [
    "sns.regplot(x='y_pred',y='Y',data=d)\n",
    "plt.show()"
   ]
  },
  {
   "cell_type": "code",
   "execution_count": null,
   "id": "a6c5307e-df16-4027-9d88-e2edc92c64bd",
   "metadata": {},
   "outputs": [],
   "source": []
  }
 ],
 "metadata": {
  "kernelspec": {
   "display_name": "Python 3 (ipykernel)",
   "language": "python",
   "name": "python3"
  },
  "language_info": {
   "codemirror_mode": {
    "name": "ipython",
    "version": 3
   },
   "file_extension": ".py",
   "mimetype": "text/x-python",
   "name": "python",
   "nbconvert_exporter": "python",
   "pygments_lexer": "ipython3",
   "version": "3.9.13"
  }
 },
 "nbformat": 4,
 "nbformat_minor": 5
}
